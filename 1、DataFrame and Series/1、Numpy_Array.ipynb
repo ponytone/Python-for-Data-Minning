{
 "cells": [
  {
   "cell_type": "markdown",
   "metadata": {},
   "source": [
    "# Numpy - array"
   ]
  },
  {
   "cell_type": "markdown",
   "metadata": {},
   "source": [
    "## outlines"
   ]
  },
  {
   "cell_type": "markdown",
   "metadata": {},
   "source": [
    "* basic\n",
    "* simple funtion\n",
    "* saving and loading files"
   ]
  },
  {
   "cell_type": "code",
   "execution_count": 1,
   "metadata": {},
   "outputs": [],
   "source": [
    "import numpy as np"
   ]
  },
  {
   "cell_type": "markdown",
   "metadata": {},
   "source": [
    "## basic "
   ]
  },
  {
   "cell_type": "code",
   "execution_count": 2,
   "metadata": {},
   "outputs": [
    {
     "name": "stdout",
     "output_type": "stream",
     "text": [
      "[1 2 3]\n",
      "1:\n",
      " [[1. 1. 1. 1. 1.]\n",
      " [1. 1. 1. 1. 1.]\n",
      " [1. 1. 1. 1. 1.]\n",
      " [1. 1. 1. 1. 1.]\n",
      " [1. 1. 1. 1. 1.]]\n",
      "2:\n",
      " [[[[0. 0. 0. 0.]\n",
      "   [0. 0. 0. 0.]\n",
      "   [0. 0. 0. 0.]]\n",
      "\n",
      "  [[0. 0. 0. 0.]\n",
      "   [0. 0. 0. 0.]\n",
      "   [0. 0. 0. 0.]]]]\n",
      "3:\n",
      " [[1. 0. 0. 0. 0.]\n",
      " [0. 1. 0. 0. 0.]\n",
      " [0. 0. 1. 0. 0.]\n",
      " [0. 0. 0. 1. 0.]\n",
      " [0. 0. 0. 0. 1.]]\n"
     ]
    }
   ],
   "source": [
    "# create an array\n",
    "arr = np.array([1,2,3])\n",
    "print(arr)\n",
    "print('1:\\n',np.ones([5,5]))\n",
    "print('2:\\n',np.zeros([1,2,3,4]))\n",
    "print('3:\\n',np.eye(5))"
   ]
  },
  {
   "cell_type": "code",
   "execution_count": 3,
   "metadata": {},
   "outputs": [
    {
     "name": "stdout",
     "output_type": "stream",
     "text": [
      "[[ 0  1  2  3  4  5  6  7  8  9]\n",
      " [10 11 12 13 14 15 16 17 18 19]\n",
      " [20 21 22 23 24 25 26 27 28 29]]\n",
      "[[10 11 12]\n",
      " [20 21 22]]\n",
      "[[ 0  1  2  3  4  5  6  7  8  9 10 11 12 13 14 15 16 17 18 19]\n",
      " [20 21 22 23 24 25 26 27 28 29 30 31 32 33 34 35 36 37 38 39]\n",
      " [40 41 42 43 44 45 46 47 48 49 50 51 52 53 54 55 56 57 58 59]\n",
      " [60 61 62 63 64 65 66 67 68 69 70 71 72 73 74 75 76 77 78 79]\n",
      " [80 81 82 83 84 85 86 87 88 89 90 91 92 93 94 95 96 97 98 99]]\n"
     ]
    },
    {
     "data": {
      "text/plain": [
       "array([[60, 61, 62, 63, 64, 65, 66, 67, 68, 69, 70, 71, 72, 73, 74, 75,\n",
       "        76, 77, 78, 79],\n",
       "       [80, 81, 82, 83, 84, 85, 86, 87, 88, 89, 90, 91, 92, 93, 94, 95,\n",
       "        96, 97, 98, 99],\n",
       "       [20, 21, 22, 23, 24, 25, 26, 27, 28, 29, 30, 31, 32, 33, 34, 35,\n",
       "        36, 37, 38, 39]])"
      ]
     },
     "execution_count": 3,
     "metadata": {},
     "output_type": "execute_result"
    }
   ],
   "source": [
    "# indexing array\n",
    "a = np.arange(30).reshape(3,-1)\n",
    "print(a)\n",
    "print(a[1:,:3])\n",
    "\n",
    "# choose more than one rows\n",
    "b = np.arange(100).reshape(5,-1)\n",
    "print(b)\n",
    "b[[3,4,1]]"
   ]
  },
  {
   "cell_type": "code",
   "execution_count": 4,
   "metadata": {},
   "outputs": [
    {
     "name": "stdout",
     "output_type": "stream",
     "text": [
      "[[ 0 10 20 30 40]\n",
      " [ 1 11 21 31 41]\n",
      " [ 2 12 22 32 42]\n",
      " [ 3 13 23 33 43]\n",
      " [ 4 14 24 34 44]\n",
      " [ 5 15 25 35 45]\n",
      " [ 6 16 26 36 46]\n",
      " [ 7 17 27 37 47]\n",
      " [ 8 18 28 38 48]\n",
      " [ 9 19 29 39 49]]\n",
      "[[  285   735  1185  1635  2085]\n",
      " [  735  2185  3635  5085  6535]\n",
      " [ 1185  3635  6085  8535 10985]\n",
      " [ 1635  5085  8535 11985 15435]\n",
      " [ 2085  6535 10985 15435 19885]]\n"
     ]
    }
   ],
   "source": [
    "# array transform\n",
    "a = np.arange(50).reshape(5,-1)\n",
    "print(a.T)\n",
    "\n",
    "# dot\n",
    "print(np.dot(a,a.T))"
   ]
  },
  {
   "cell_type": "markdown",
   "metadata": {},
   "source": [
    "## simple funtion"
   ]
  },
  {
   "cell_type": "code",
   "execution_count": 5,
   "metadata": {},
   "outputs": [
    {
     "name": "stdout",
     "output_type": "stream",
     "text": [
      "A is :\n",
      "[ 0.20354644 -0.30715301  0.80021159  0.16731073  0.38143633 -0.73427443\n",
      " -0.75748425 -0.2357754   0.18487482  0.89338238]\n",
      "B is :\n",
      "[-0.74578361  0.74406298  0.0282252  -0.01131237  0.32851195 -2.13836711\n",
      "  0.07473944 -1.96499815  1.08330105  1.70096222]\n",
      "[-0.54223717  0.43690997  0.82843679  0.15599837  0.70994828 -2.87264154\n",
      " -0.68274482 -2.20077355  1.26817586  2.59434459]\n",
      "[ 0.20354644  0.74406298  0.80021159  0.16731073  0.38143633 -0.73427443\n",
      "  0.07473944 -0.2357754   1.08330105  1.70096222]\n"
     ]
    }
   ],
   "source": [
    "# Array funtion\n",
    "A = np.random.randn(10)\n",
    "B = np.random.randn(10)\n",
    "print('A is :'+'\\n'+str(A))\n",
    "print('B is :'+'\\n'+str(B))\n",
    "\n",
    "# binary funtion \n",
    "print(np.add(A,B))\n",
    "print(np.maximum(A,B))"
   ]
  },
  {
   "cell_type": "code",
   "execution_count": 6,
   "metadata": {},
   "outputs": [
    {
     "name": "stdout",
     "output_type": "stream",
     "text": [
      "[1, 600, 3, 800]\n"
     ]
    },
    {
     "data": {
      "text/plain": [
       "array([  1, 600,   3, 800])"
      ]
     },
     "execution_count": 6,
     "metadata": {},
     "output_type": "execute_result"
    }
   ],
   "source": [
    "# numpy where\n",
    "a = np.array([1,2,3,4])\n",
    "b = np.array([500,600,700,800])\n",
    "condition = np.array([True,False,True,False])\n",
    "\n",
    "answer = [(a_v if cond else b_v) for a_v,b_v,cond in zip(a,b,condition)]\n",
    "print(answer)\n",
    "\n",
    "# \n",
    "answer2 = np.where(condition,a,b)\n",
    "answer2"
   ]
  },
  {
   "cell_type": "code",
   "execution_count": 7,
   "metadata": {},
   "outputs": [
    {
     "data": {
      "text/plain": [
       "array([[-0.29862836, -0.52619262, -2.03959888,  0.        , -1.12859989],\n",
       "       [-0.71767299, -0.65538342, -1.92824942, -0.08382187,  0.        ],\n",
       "       [ 0.        , -1.8210308 ,  0.        ,  0.        , -0.08498949],\n",
       "       [-1.07116682, -0.25441271,  0.        ,  0.        ,  0.        ],\n",
       "       [-1.08585896, -0.51298524,  0.        ,  0.        , -0.26352454]])"
      ]
     },
     "execution_count": 7,
     "metadata": {},
     "output_type": "execute_result"
    }
   ],
   "source": [
    "# condition\n",
    "a = np.random.randn(5,5)\n",
    "answer = np.where(a>0,0,a)\n",
    "answer"
   ]
  },
  {
   "cell_type": "code",
   "execution_count": 8,
   "metadata": {},
   "outputs": [
    {
     "name": "stdout",
     "output_type": "stream",
     "text": [
      "[[ 1  2  3  4]\n",
      " [ 5  6  7  8]\n",
      " [ 9 10 11 12]]\n",
      "1: 78\n",
      "2: [15 18 21 24]\n",
      "3: [10 26 42]\n"
     ]
    }
   ],
   "source": [
    "# sum \n",
    "a = np.arange(1,13).reshape(3,-1)\n",
    "print(a)\n",
    "print('1:',a.sum())\n",
    "print('2:',a.sum(0))\n",
    "print('3:',a.sum(1))"
   ]
  },
  {
   "cell_type": "code",
   "execution_count": 9,
   "metadata": {},
   "outputs": [
    {
     "name": "stdout",
     "output_type": "stream",
     "text": [
      "['apple' 'bannana' 'lemon']\n"
     ]
    },
    {
     "data": {
      "text/plain": [
       "array([ True,  True, False])"
      ]
     },
     "execution_count": 9,
     "metadata": {},
     "output_type": "execute_result"
    }
   ],
   "source": [
    "# np.unique\n",
    "fruit = np.array(['apple','bannana','lemon','apple'])\n",
    "print(np.unique(fruit))\n",
    "np.in1d(['apple','lemon','orange'],fruit)"
   ]
  },
  {
   "cell_type": "markdown",
   "metadata": {},
   "source": [
    "## saving and loading files"
   ]
  },
  {
   "cell_type": "code",
   "execution_count": 10,
   "metadata": {},
   "outputs": [
    {
     "data": {
      "text/plain": [
       "array([0, 1, 2, 3, 4])"
      ]
     },
     "execution_count": 10,
     "metadata": {},
     "output_type": "execute_result"
    }
   ],
   "source": [
    "# save\n",
    "arr = np.arange(5)\n",
    "np.save('my_array_0509',arr)\n",
    "\n",
    "# load\n",
    "arr1 = np.load('my_array_0509.npy')\n",
    "arr1"
   ]
  },
  {
   "cell_type": "code",
   "execution_count": 11,
   "metadata": {},
   "outputs": [
    {
     "name": "stdout",
     "output_type": "stream",
     "text": [
      "[0 1 2 3 4]\n"
     ]
    },
    {
     "data": {
      "text/plain": [
       "array([0, 1, 2, 3, 4, 5, 6, 7, 8, 9])"
      ]
     },
     "execution_count": 11,
     "metadata": {},
     "output_type": "execute_result"
    }
   ],
   "source": [
    "arr = np.arange(5)\n",
    "arr1 = np.arange(10)\n",
    "np.savez('two_arrays.npz',x=arr,y=arr1)\n",
    "arr_ = np.load('two_arrays.npz')\n",
    "print(arr_['x'])\n",
    "arr_['y']"
   ]
  },
  {
   "cell_type": "code",
   "execution_count": 12,
   "metadata": {},
   "outputs": [
    {
     "data": {
      "text/plain": [
       "array([[1., 2., 3.],\n",
       "       [4., 5., 6.]])"
      ]
     },
     "execution_count": 12,
     "metadata": {},
     "output_type": "execute_result"
    }
   ],
   "source": [
    "#saving and loading text files\n",
    "arr = np.array([[1,2,3],[4,5,6]])\n",
    "np.savetxt('my_test_text.txt',arr,delimiter=',')\n",
    "arr = np.loadtxt('my_test_text.txt',delimiter = ',')\n",
    "arr"
   ]
  },
  {
   "cell_type": "code",
   "execution_count": null,
   "metadata": {},
   "outputs": [],
   "source": []
  }
 ],
 "metadata": {
  "kernelspec": {
   "display_name": "Python 3",
   "language": "python",
   "name": "python3"
  },
  "language_info": {
   "codemirror_mode": {
    "name": "ipython",
    "version": 3
   },
   "file_extension": ".py",
   "mimetype": "text/x-python",
   "name": "python",
   "nbconvert_exporter": "python",
   "pygments_lexer": "ipython3",
   "version": "3.7.1"
  }
 },
 "nbformat": 4,
 "nbformat_minor": 2
}
