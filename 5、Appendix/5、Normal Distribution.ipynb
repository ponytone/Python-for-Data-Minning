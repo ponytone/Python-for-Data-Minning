{
 "cells": [
  {
   "cell_type": "markdown",
   "metadata": {},
   "source": [
    "# Normal Distribution"
   ]
  },
  {
   "cell_type": "markdown",
   "metadata": {},
   "source": [
    "### et's learn the normal distribution! Note: You should check out the binomial distribution first.\n",
    "We'll start with the definition of the PDF, we'll see how to create the distribution in python using scipy and numpy, and discuss some properties of the normal distribution.\n",
    "\n",
    "The distribution is defined by the probability density function equation:\n",
    "$$ f(x,μ,σ^2) = \\frac{1}{\\sigma\\sqrt{2\\pi}}e^{-\\frac{(x-\\mu)^2}{2(\\sigma)^2}} $$"
   ]
  },
  {
   "cell_type": "markdown",
   "metadata": {},
   "source": [
    "where: μ=mean , σ=standard deviation , π=3.14... , e=2.718... The total area bounded by curve of the probability density function equation and the X axis is 1; thus the area under the curve between two ordinates X=a and X=b, where a<b, represents the probability that X lies between a and b. This probability can be expressed as:\n",
    "$$ Pr(a<X<b) $$"
   ]
  },
  {
   "cell_type": "markdown",
   "metadata": {},
   "source": [
    "Let's look at the curve. The normal distribution has several characteristics:\n",
    "\n",
    "1.) It has a lower tail (on the left) and an upper tail (on the right)\n",
    "\n",
    "2.) The curve is symmetric (for the theoretical distribution)\n",
    "\n",
    "3.) The peak occurs at the mean.\n",
    "\n",
    "4.) The standard deviation gives the curve a different shape:\n",
    "\n",
    "    -Narrow and tall for a smaller standard deviation.\n",
    "    -Shallower and fatter for a larger standard deviation.\n",
    "5.) The area under the curve is equal to 1 (the total probaility space)\n",
    "\n",
    "6.) The mean=median=mode.\n",
    "\n",
    "For the normal distribution, we can see what percentage of values lie between +/- a standard deviation. 68% of the values lie within 1 TSD, 95% between 2 STDs, and 99.7% between 3 STDs. The number of standard deviations is also called the z-score, which we saw above in the PDF."
   ]
  },
  {
   "cell_type": "code",
   "execution_count": 1,
   "metadata": {},
   "outputs": [
    {
     "data": {
      "text/html": [
       "<img src=\"http://upload.wikimedia.org/wikipedia/commons/thumb/2/25/The_Normal_Distribution.svg/725px-The_Normal_Distribution.svg.png\"/>"
      ],
      "text/plain": [
       "<IPython.core.display.Image object>"
      ]
     },
     "execution_count": 1,
     "metadata": {},
     "output_type": "execute_result"
    }
   ],
   "source": [
    "from IPython.display import Image\n",
    "Image(url='http://upload.wikimedia.org/wikipedia/commons/thumb/2/25/The_Normal_Distribution.svg/725px-The_Normal_Distribution.svg.png')"
   ]
  },
  {
   "cell_type": "code",
   "execution_count": 3,
   "metadata": {},
   "outputs": [
    {
     "data": {
      "text/plain": [
       "[<matplotlib.lines.Line2D at 0x85e6cf8>]"
      ]
     },
     "execution_count": 3,
     "metadata": {},
     "output_type": "execute_result"
    },
    {
     "data": {
      "image/png": "[encoded data removed]",
      "text/plain": [
       "<Figure size 432x288 with 1 Axes>"
      ]
     },
     "metadata": {
      "needs_background": "light"
     },
     "output_type": "display_data"
    }
   ],
   "source": [
    "#Import\n",
    "import numpy as np\n",
    "import matplotlib as mpl\n",
    "import matplotlib.pyplot as plt\n",
    "%matplotlib inline\n",
    "\n",
    "#Import the stats library\n",
    "from scipy import stats\n",
    "\n",
    "# Set the mean\n",
    "mean = 0\n",
    "\n",
    "#Set the standard deviation\n",
    "std = 1\n",
    "\n",
    "\n",
    "# Create a range\n",
    "X = np.arange(-4,4,0.01)\n",
    "\n",
    "#Create the normal distribution for the range\n",
    "Y = stats.norm.pdf(X,mean,std)\n",
    "\n",
    "#\n",
    "plt.plot(X,Y)"
   ]
  },
  {
   "cell_type": "code",
   "execution_count": 8,
   "metadata": {},
   "outputs": [],
   "source": [
    "import numpy as np\n",
    "\n",
    "#Set the mean and the standard deviaiton\n",
    "mu,sigma = 0,0.1\n",
    "\n",
    "# Now grab 1000 random numbers from the normal distribution\n",
    "norm_set = np.random.normal(mu,sigma,1000)"
   ]
  },
  {
   "cell_type": "code",
   "execution_count": 9,
   "metadata": {},
   "outputs": [
    {
     "data": {
      "text/plain": [
       "(array([ 3.,  5.,  3.,  2.,  4.,  6.,  5., 15., 12., 12., 10., 12., 23.,\n",
       "        31., 23., 37., 33., 29., 44., 43., 38., 47., 46., 44., 55., 58.,\n",
       "        38., 41., 31., 38., 34., 24., 22., 19., 28., 12., 18.,  5.,  7.,\n",
       "         8.,  7.,  7.,  3.,  3.,  3.,  3.,  2.,  3.,  1.,  3.]),\n",
       " array([-0.25605909, -0.24518404, -0.234309  , -0.22343396, -0.21255891,\n",
       "        -0.20168387, -0.19080883, -0.17993379, -0.16905874, -0.1581837 ,\n",
       "        -0.14730866, -0.13643361, -0.12555857, -0.11468353, -0.10380849,\n",
       "        -0.09293344, -0.0820584 , -0.07118336, -0.06030831, -0.04943327,\n",
       "        -0.03855823, -0.02768319, -0.01680814, -0.0059331 ,  0.00494194,\n",
       "         0.01581699,  0.02669203,  0.03756707,  0.04844211,  0.05931716,\n",
       "         0.0701922 ,  0.08106724,  0.09194229,  0.10281733,  0.11369237,\n",
       "         0.12456741,  0.13544246,  0.1463175 ,  0.15719254,  0.16806759,\n",
       "         0.17894263,  0.18981767,  0.20069271,  0.21156776,  0.2224428 ,\n",
       "         0.23331784,  0.24419289,  0.25506793,  0.26594297,  0.27681801,\n",
       "         0.28769306]),\n",
       " <a list of 50 Patch objects>)"
      ]
     },
     "execution_count": 9,
     "metadata": {},
     "output_type": "execute_result"
    },
    {
     "data": {
      "image/png": "[encoded data removed]",
      "text/plain": [
       "<Figure size 432x288 with 1 Axes>"
      ]
     },
     "metadata": {
      "needs_background": "light"
     },
     "output_type": "display_data"
    }
   ],
   "source": [
    "#Now let's plot it using seaborn\n",
    "\n",
    "import seaborn as sns\n",
    "\n",
    "plt.hist(norm_set,bins=50)"
   ]
  },
  {
   "cell_type": "markdown",
   "metadata": {},
   "source": [
    "There's a ton on information to go over for the normal distribution, this notebook should just serve as a very mild introduction, for more info check out the following sources:\n",
    "\n",
    "1.) http://en.wikipedia.org/wiki/Normal_distribution\n",
    "\n",
    "2.) http://mathworld.wolfram.com/NormalDistribution.html\n",
    "\n",
    "3.) http://stattrek.com/probability-distributions/normal.aspx\n",
    "\n",
    "Thanks!"
   ]
  },
  {
   "cell_type": "code",
   "execution_count": null,
   "metadata": {},
   "outputs": [],
   "source": []
  }
 ],
 "metadata": {
  "kernelspec": {
   "display_name": "Python 3",
   "language": "python",
   "name": "python3"
  },
  "language_info": {
   "codemirror_mode": {
    "name": "ipython",
    "version": 3
   },
   "file_extension": ".py",
   "mimetype": "text/x-python",
   "name": "python",
   "nbconvert_exporter": "python",
   "pygments_lexer": "ipython3",
   "version": "3.7.1"
  }
 },
 "nbformat": 4,
 "nbformat_minor": 2
}
