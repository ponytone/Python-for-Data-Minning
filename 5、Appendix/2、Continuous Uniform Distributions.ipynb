{
 "cells": [
  {
   "cell_type": "markdown",
   "metadata": {},
   "source": [
    "# Continuous Uniform Distributions"
   ]
  },
  {
   "cell_type": "markdown",
   "metadata": {},
   "source": [
    "#### Let's learn about Continous Uniform Distributions. Note: You should look at Discrete Uniform Distributions first.\n",
    "If we took a discrete uniform distribution to probability of any outcome was 1/n for any outcome, however for a continous distribution, our data can not be divided in discrete components, for example weighing an object. With perfect precision on weight, the data can take on any value between two points(e.g 5.4 grams,5.423 grams, 5.42322 grams, etc.)\n",
    "\n",
    "This means that our n possible values from the discrete uniform distribution is going towards infinity, thus the probability of any individual outcome for a continous distribution is 1/∞ ,technically undefined or zero if we take the limit to infinity. Thus we can only take probability measurements of ranges of values, and not just a specific point. Let's look at some definitions and examples to get a better understanding!"
   ]
  },
  {
   "cell_type": "markdown",
   "metadata": {},
   "source": [
    "#### A continous random variable X with a probability density function is a continous uniform random variable when:\n",
    "$$ f(x) = \\frac{1}{b-a} $$\n",
    "$$ a <= x <= b $$"
   ]
  },
  {
   "cell_type": "markdown",
   "metadata": {},
   "source": [
    "This makes sense, since for a discrete uniform distribution the f(x)=1/n but in the continous case we don't have a specific n possibilities, we have a range from the min (a) to the max (b)!\n",
    "\n",
    "The mean is simply the average of the min and max:\n",
    "$$ \\frac{a+b}{2} $$\n",
    "\n",
    "The variance is defined as:\n",
    "$$ \\sigma^2 = \\frac{(b-a)^2}{12} $$\n",
    "\n",
    "So what would an example problem look like? Let's say on average, a taxi ride in NYC takes 22 minutes. After taking some time measurements from experiments we gather that all the taxi rides are uniformly distributed between 19 and 27 minutes. What is the probability density function of a taxi ride, or f(x)?"
   ]
  },
  {
   "cell_type": "code",
   "execution_count": 3,
   "metadata": {},
   "outputs": [
    {
     "name": "stdout",
     "output_type": "stream",
     "text": [
      "The probability density function results in 0.125\n",
      "The variance of the continous unifrom distribution is 5.3\n"
     ]
    }
   ],
   "source": [
    "#Let's solve this with python\n",
    "\n",
    "#Lower bound time\n",
    "a = 19\n",
    "\n",
    "#Upper bound time\n",
    "b = 27\n",
    "\n",
    "#Then using our probability density function we get\n",
    "fx = 1.0/(b-a)\n",
    "\n",
    "#show \n",
    "print ('The probability density function results in %1.3f' %fx)\n",
    "\n",
    "#We can also get the variance \n",
    "var = ((b-a)**2 )/12\n",
    "\n",
    "#Show\n",
    "print ('The variance of the continous unifrom distribution is %1.1f' %var)"
   ]
  },
  {
   "cell_type": "code",
   "execution_count": 12,
   "metadata": {},
   "outputs": [
    {
     "data": {
      "text/plain": [
       "[<matplotlib.lines.Line2D at 0x899e940>]"
      ]
     },
     "execution_count": 12,
     "metadata": {},
     "output_type": "execute_result"
    },
    {
     "data": {
      "image/png": "[encoded data removed]",
      "text/plain": [
       "<Figure size 432x288 with 1 Axes>"
      ]
     },
     "metadata": {
      "needs_background": "light"
     },
     "output_type": "display_data"
    }
   ],
   "source": [
    "# Import the following\n",
    "from scipy.stats import uniform\n",
    "import numpy as np\n",
    "import matplotlib.pyplot as plt\n",
    "\n",
    "#Let's set an A and B\n",
    "A=0\n",
    "B=5\n",
    "\n",
    "# Set x as 100 linearly spaced points between A and B\n",
    "x = np.linspace(A,B,100)\n",
    "\n",
    "# Use uniform(loc=start point,scale=endpoint)\n",
    "rv = uniform(loc=A,scale=B)\n",
    "\n",
    "#Plot the PDF of that uniform distirbution\n",
    "plt.plot(x,rv.pdf(x))"
   ]
  },
  {
   "cell_type": "markdown",
   "metadata": {},
   "source": [
    "Note the above line is at 0.2, as we would expect since 1/(5-0) is 1/5 or 0.2."
   ]
  },
  {
   "cell_type": "markdown",
   "metadata": {},
   "source": [
    "That's it for Uniform Continuous Distributions. Here are some more resource for you:\n",
    "\n",
    "1.)http://en.wikipedia.org/wiki/Uniform_distribution_%28continuous%29\n",
    "\n",
    "2.)http://docs.scipy.org/doc/scipy/reference/generated/scipy.stats.uniform.html\n",
    "\n",
    "3.)http://mathworld.wolfram.com/UniformDistribution.html"
   ]
  },
  {
   "cell_type": "code",
   "execution_count": null,
   "metadata": {},
   "outputs": [],
   "source": []
  }
 ],
 "metadata": {
  "kernelspec": {
   "display_name": "Python 3",
   "language": "python",
   "name": "python3"
  },
  "language_info": {
   "codemirror_mode": {
    "name": "ipython",
    "version": 3
   },
   "file_extension": ".py",
   "mimetype": "text/x-python",
   "name": "python",
   "nbconvert_exporter": "python",
   "pygments_lexer": "ipython3",
   "version": "3.7.1"
  }
 },
 "nbformat": 4,
 "nbformat_minor": 2
}
