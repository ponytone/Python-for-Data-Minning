{
 "cells": [
  {
   "cell_type": "code",
   "execution_count": 2,
   "metadata": {},
   "outputs": [],
   "source": [
    "from selenium import webdriver\n",
    "from selenium.webdriver.common.keys import Keys\n",
    "from selenium.webdriver.support.ui import Select"
   ]
  },
  {
   "cell_type": "code",
   "execution_count": 3,
   "metadata": {},
   "outputs": [],
   "source": [
    "driver = webdriver.Chrome()\n",
    "driver.get(\"http://www.hlpb.gov.tw/admin/ask_list.php?typeid=2639&status=%B3B%B2z%A4%A4\")\n",
    "\n",
    "xpath = '/html/body/p/a'\n",
    "btn = driver.find_element_by_xpath(xpath)\n",
    "btn.click()\n",
    "\n",
    "account = '/html/body/table/tbody/tr/td/table/tbody/tr/td/table/tbody/tr[1]/td[1]/table/tbody/tr[2]/td/table/tbody/tr[1]/td[2]/input'\n",
    "box = driver.find_element_by_xpath(account)\n",
    "box.send_keys('traffic')\n",
    "\n",
    "password = '/html/body/table/tbody/tr/td/table/tbody/tr/td/table/tbody/tr[1]/td[1]/table/tbody/tr[2]/td/table/tbody/tr[2]/td[2]/input'\n",
    "box2 = driver.find_element_by_xpath(password)\n",
    "box2.send_keys('police')\n",
    "\n",
    "bott = '/html/body/table/tbody/tr/td/table/tbody/tr/td/table/tbody/tr[1]/td[1]/table/tbody/tr[2]/td/table/tbody/tr[1]/td[4]/input'\n",
    "btn = driver.find_element_by_xpath(bott)\n",
    "btn.click()\n",
    "\n",
    "xpath = '/html/body/table/tbody/tr[2]/td[2]/table/tbody/tr/td[7]/div/a'\n",
    "btn = driver.find_element_by_xpath(xpath)\n",
    "btn.click()\n",
    "\n",
    "xpath = '/html/body/table/tbody/tr[3]/td[2]/table/tbody/tr[2]/td[6]/div/a'\n",
    "btn = driver.find_element_by_xpath(xpath)\n",
    "btn.click()\n",
    "\n",
    "xpath = '/html/body/table/tbody/tr[4]/td[2]/table/tbody/tr/td[1]/div/table/tbody/tr[3]/td/li/a'\n",
    "btn = driver.find_element_by_xpath(xpath)\n",
    "btn.click()\n",
    "\n",
    "xpath = '/html/body/table/tbody/tr[4]/td[2]/table/tbody/tr/td[2]/table/tbody/tr/td/table[3]/tbody/tr/td[2]/table/tbody/tr[6]/td/table[1]/tbody/tr[2]/td/a[3]'\n",
    "btn = driver.find_element_by_xpath(xpath)\n",
    "btn.click()\n",
    "\n",
    "select = Select(driver.find_element_by_name('pag'))\n",
    "select.select_by_index(len(driver.find_elements_by_tag_name('select')[2].find_elements_by_tag_name('option')) - 1)\n",
    "\n",
    "# xpath = '/html/body/table/tbody/tr[4]/td[2]/table/tbody/tr/td[2]/table/tbody/tr/td/table[3]/tbody/tr/td[2]/table/tbody/tr[6]/td/table[2]/tbody/tr[15]/td[10]/span/a/img'\n",
    "# btn = driver.find_element_by_xpath(xpath)\n",
    "# btn.click()\n",
    "\n",
    "#driver.close()"
   ]
  },
  {
   "cell_type": "code",
   "execution_count": 87,
   "metadata": {},
   "outputs": [
    {
     "data": {
      "text/plain": [
       "15"
      ]
     },
     "execution_count": 87,
     "metadata": {},
     "output_type": "execute_result"
    }
   ],
   "source": [
    "## get page\n",
    "len(driver.find_elements_by_tag_name('select')[2].find_elements_by_tag_name('option')) - 1\n",
    "\n",
    "driver.find_elements_by_tag_name('select')[2].find_elements_by_tag_name('option')[0]"
   ]
  },
  {
   "cell_type": "code",
   "execution_count": null,
   "metadata": {},
   "outputs": [],
   "source": []
  },
  {
   "cell_type": "code",
   "execution_count": 47,
   "metadata": {},
   "outputs": [
    {
     "name": "stdout",
     "output_type": "stream",
     "text": [
      "[]\n"
     ]
    },
    {
     "data": {
      "text/plain": [
       "'張苡絃君您好:\\n您所檢舉車號128-E9營業小客車於108年5月24日19時19分，在花蓮市國聯三路93號違規一節，經檢視所提供之舉證資料，違規事實明確，將依違反道路交通管理處罰條例第44條第2項規定（駕駛汽車行經行人穿越道有行人穿越時，不暫停讓行人先行通過）製單舉發。\\n\\t感謝來信  敬祝平安'"
      ]
     },
     "execution_count": 47,
     "metadata": {},
     "output_type": "execute_result"
    }
   ],
   "source": [
    "# import data\n",
    "import sys\n",
    "import pickle\n",
    "import re\n",
    "import codecs\n",
    "import string\n",
    "import shutil\n",
    "from win32com import client as wc\n",
    "import docx\n",
    "import os\n",
    "dirPath = r\"C:\\Users\\traffic\\Desktop\\package\\data\"\n",
    "result = [f for f in os.listdir(dirPath) if os.path.isfile(os.path.join(dirPath, f))]\n",
    "print(result)\n",
    "\n",
    "from os import listdir\n",
    "from os.path import isfile, isdir, join\n",
    "files = listdir(dirPath)\n",
    "files\n",
    "\n",
    "i = files[0]\n",
    "file=docx.Document(\"C:\\\\Users\\\\traffic\\\\Desktop\\\\package\\\\data\\\\\" + i +'\\\\' + i +\".docx\")\n",
    "table = file.tables[1]\n",
    "\n",
    "data = []\n",
    "\n",
    "keys = None\n",
    "for i, row in enumerate(table.rows):\n",
    "    text = (cell.text for cell in row.cells)\n",
    "\n",
    "    # Establish the mapping based on the first row\n",
    "    # headers; these will become the keys of our dictionary\n",
    "    if i == 0:\n",
    "        keys = tuple(text)\n",
    "        continue\n",
    "\n",
    "    # Construct a dictionary for this row, mapping\n",
    "    # keys to values for this row\n",
    "    row_data = dict(zip(keys, text))\n",
    "    data.append(row_data)\n",
    "\n",
    "data[0]['回復內文']"
   ]
  },
  {
   "cell_type": "code",
   "execution_count": 75,
   "metadata": {},
   "outputs": [],
   "source": [
    "word = '//*[@id=\"cke_1_contents\"]/iframe'\n",
    "box2 = driver.find_element_by_xpath(word)\n",
    "box2.send_keys('\\n'+data[0]['回復內文'].replace('\\t',\"\"))\n",
    "\n",
    "word = '/html/body/table/tbody/tr[4]/td[2]/table/tbody/tr/td[2]/table/tbody/tr/td/table[3]/tbody/tr/td[2]/div/table/tbody/tr[1]/td[2]/div/table/tbody/tr/td/table/tbody/tr[30]/td/textarea'\n",
    "box2 = driver.find_element_by_xpath(word)\n",
    "box2.send_keys('\\n'+data[0]['回復內文'].replace('\\t',\"\"))"
   ]
  },
  {
   "cell_type": "code",
   "execution_count": 76,
   "metadata": {},
   "outputs": [],
   "source": []
  },
  {
   "cell_type": "code",
   "execution_count": 175,
   "metadata": {},
   "outputs": [],
   "source": []
  },
  {
   "cell_type": "code",
   "execution_count": 176,
   "metadata": {},
   "outputs": [],
   "source": []
  },
  {
   "cell_type": "code",
   "execution_count": null,
   "metadata": {},
   "outputs": [],
   "source": []
  },
  {
   "cell_type": "code",
   "execution_count": 178,
   "metadata": {},
   "outputs": [],
   "source": []
  },
  {
   "cell_type": "code",
   "execution_count": null,
   "metadata": {},
   "outputs": [],
   "source": []
  },
  {
   "cell_type": "code",
   "execution_count": null,
   "metadata": {},
   "outputs": [],
   "source": []
  },
  {
   "cell_type": "code",
   "execution_count": 173,
   "metadata": {},
   "outputs": [],
   "source": []
  }
 ],
 "metadata": {
  "kernelspec": {
   "display_name": "Python 3",
   "language": "python",
   "name": "python3"
  },
  "language_info": {
   "codemirror_mode": {
    "name": "ipython",
    "version": 3
   },
   "file_extension": ".py",
   "mimetype": "text/x-python",
   "name": "python",
   "nbconvert_exporter": "python",
   "pygments_lexer": "ipython3",
   "version": "3.7.1"
  }
 },
 "nbformat": 4,
 "nbformat_minor": 2
}
