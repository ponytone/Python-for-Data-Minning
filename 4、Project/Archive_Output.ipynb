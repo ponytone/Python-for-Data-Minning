{
 "cells": [
  {
   "cell_type": "code",
   "execution_count": 3,
   "metadata": {},
   "outputs": [],
   "source": [
    "# import data\n",
    "import sys\n",
    "import pickle\n",
    "import re\n",
    "import codecs\n",
    "import string\n",
    "import shutil\n",
    "from win32com import client as wc\n",
    "import docx"
   ]
  },
  {
   "cell_type": "code",
   "execution_count": 1,
   "metadata": {},
   "outputs": [
    {
     "data": {
      "text/plain": [
       "['2019070819102180',\n",
       " '2019070820370042',\n",
       " '2019070820420116',\n",
       " '2019070908241629',\n",
       " '2019070910140460',\n",
       " '2019070915412264',\n",
       " '2019070915431594',\n",
       " '2019070916032398',\n",
       " '2019070919091495',\n",
       " '2019070920233979']"
      ]
     },
     "execution_count": 1,
     "metadata": {},
     "output_type": "execute_result"
    }
   ],
   "source": [
    "import os\n",
    "dirPath = r\"C:\\Users\\traffic\\Desktop\\package\\data\"\n",
    "dirPath2 = r'C:\\Users\\traffic\\Desktop\\0613網路發件'\n",
    "\n",
    "# result = [f for f in os.listdir(dirPath) if os.path.isfile(os.path.join(dirPath, f))]\n",
    "# print(result)\n",
    "\n",
    "from os import listdir\n",
    "from os.path import isfile, isdir, join\n",
    "files = listdir(dirPath)\n",
    "files"
   ]
  },
  {
   "cell_type": "code",
   "execution_count": 3,
   "metadata": {
    "scrolled": true
   },
   "outputs": [],
   "source": [
    "## change doc into docx\n",
    "for i in files:\n",
    "    try:\n",
    "        word = wc.Dispatch('Word.Application')\n",
    "        doc = word.Documents.Open(u'C:\\\\Users\\\\traffic\\\\Desktop\\\\package\\\\data\\\\' + i + '\\\\' + i + '.doc')        # 目標路徑下的檔案\n",
    "        doc.SaveAs(u'C:\\\\Users\\\\traffic\\\\Desktop\\\\package\\\\data\\\\' + i + '\\\\' + i + '.docx', 12, False, \"\", True, \"\", False, False, False, False)  # 轉化後路徑下的檔案    \n",
    "        doc.Close()\n",
    "    except:\n",
    "        pass\n",
    "    #word.Quit()"
   ]
  },
  {
   "cell_type": "code",
   "execution_count": 9,
   "metadata": {},
   "outputs": [],
   "source": [
    "date_list = []\n",
    "car_list = []\n",
    "data = []\n",
    "\n",
    "for k,i in enumerate(files):\n",
    "    #獲取文件物件\n",
    "    file=docx.Document(\"C:\\\\Users\\\\traffic\\\\Desktop\\\\package\\\\data\\\\\" + i +'\\\\' + i +\".docx\")\n",
    "    #print(\"段落數:\"+str(len(file.paragraphs)))#段落數為13，每個回車隔離一段\n",
    "\n",
    "    car_num = []\n",
    "\n",
    "    #輸出每一段的內容\n",
    "    #for para in file.paragraphs:\n",
    "    #   print(para.text)\n",
    "\n",
    "    #輸出段落編號及段落內容\n",
    "    for j in range(len(file.paragraphs)):\n",
    "        #print(\"第\"+str(i)+\"段的內容是：\"+file.paragraphs[i].text)\n",
    "        if file.paragraphs[j].text.split(':')[0] != '違規車號' and file.paragraphs[j].text.split(':')[0] != '\\n違規車號':\n",
    "            continue\n",
    "        else:\n",
    "            car_num.append(j)\n",
    "    if len(car_num) != 0:\n",
    "        date_list.append(file.paragraphs[car_num[0]+1].text.split(':')[1].split('日')[0].replace('年','0').replace('月','')[1:])\n",
    "    else:\n",
    "        date_list.append('')\n",
    "    car = ''  \n",
    "    for i in car_num:\n",
    "        car += file.paragraphs[i].text.split(':')[1] + str('、')\n",
    "    car[:-1]\n",
    "    car_list.append(car[:-1])\n",
    "    \n",
    "    i = files[k]\n",
    "    file=docx.Document(\"C:\\\\Users\\\\traffic\\\\Desktop\\\\package\\\\data\\\\\" + i +'\\\\' + i +\".docx\")\n",
    "    #print(k)\n",
    "    try:\n",
    "        table = file.tables[1]\n",
    "        keys = None\n",
    "        for i, row in enumerate(table.rows):\n",
    "            text = (cell.text for cell in row.cells)\n",
    "\n",
    "            # Establish the mapping based on the first row\n",
    "            # headers; these will become the keys of our dictionary\n",
    "            if i == 0:\n",
    "                keys = tuple(text)\n",
    "                continue\n",
    "\n",
    "            # Construct a dictionary for this row, mapping\n",
    "            # keys to values for this row\n",
    "            row_data = dict(zip(keys, text)) \n",
    "            if not row_data['回復內文']=='第 二 層決行' and not row_data['回復內文']=='交通隊            核稿               決行\\n\\xa0\\n\\xa0\\n\\xa0\\xa0':\n",
    "                data.append(row_data['回復內文'])\n",
    "    except KeyError:\n",
    "        try:\n",
    "            table = file.tables[1].rows[0].cells[1].text\n",
    "            data.append(table)\n",
    "        except:\n",
    "            table = file.tables[0].rows[1].cells[0].text\n",
    "            data.append(table)"
   ]
  },
  {
   "cell_type": "code",
   "execution_count": 12,
   "metadata": {},
   "outputs": [
    {
     "data": {
      "text/html": [
       "<div>\n",
       "<style scoped>\n",
       "    .dataframe tbody tr th:only-of-type {\n",
       "        vertical-align: middle;\n",
       "    }\n",
       "\n",
       "    .dataframe tbody tr th {\n",
       "        vertical-align: top;\n",
       "    }\n",
       "\n",
       "    .dataframe thead th {\n",
       "        text-align: right;\n",
       "    }\n",
       "</style>\n",
       "<table border=\"1\" class=\"dataframe\">\n",
       "  <thead>\n",
       "    <tr style=\"text-align: right;\">\n",
       "      <th></th>\n",
       "      <th>date</th>\n",
       "      <th>car</th>\n",
       "      <th>data</th>\n",
       "    </tr>\n",
       "  </thead>\n",
       "  <tbody>\n",
       "    <tr>\n",
       "      <th>2019070819102180</th>\n",
       "      <td>108076</td>\n",
       "      <td>992-NET普通重型機車、 MUU-3801普通重型機車、 MHP-2011普通重型機車...</td>\n",
       "      <td>陳明倫君您好: \\n您108年7月8日檢舉交通違規案件，經檢視所提供之舉證資料，辦理情形如下...</td>\n",
       "    </tr>\n",
       "    <tr>\n",
       "      <th>2019070820370042</th>\n",
       "      <td>108076</td>\n",
       "      <td>6002-RV自小客車、 ATW-8520自小客車、 3437-DD租賃小客車</td>\n",
       "      <td>陳明倫君您好: \\n您108年7月8日檢舉交通違規案件，經檢視所提供之舉證資料，辦理情形如下...</td>\n",
       "    </tr>\n",
       "    <tr>\n",
       "      <th>2019070820420116</th>\n",
       "      <td>108076</td>\n",
       "      <td>AKX-0069自小客車、 602-EYC普通重型機車、 RBS-9507租賃小客車</td>\n",
       "      <td>陳明倫君您好:\\n您所檢舉車號AKX-0069自小客車及車號602-EYC普通重型機車於10...</td>\n",
       "    </tr>\n",
       "    <tr>\n",
       "      <th>2019070908241629</th>\n",
       "      <td>108079</td>\n",
       "      <td>1159-B5自小客車</td>\n",
       "      <td>梁毓仁君您好:\\n您所檢舉車號1159-B5自小客車於108年7月9日6時50分，在花蓮縣南...</td>\n",
       "    </tr>\n",
       "    <tr>\n",
       "      <th>2019070910140460</th>\n",
       "      <td>108079</td>\n",
       "      <td>AHF-0186自小客車</td>\n",
       "      <td>曾建清君您好:\\n您所檢舉車號AHF-0186自小客車於108年7月9日8時59分，在花蓮縣...</td>\n",
       "    </tr>\n",
       "    <tr>\n",
       "      <th>2019070915412264</th>\n",
       "      <td></td>\n",
       "      <td>0516-SN自小客車</td>\n",
       "      <td>劉瓊璋君您好:\\n您所檢舉車號0516-SN自小客車，在花蓮市中山路553號丁丁藥局前違規一...</td>\n",
       "    </tr>\n",
       "    <tr>\n",
       "      <th>2019070915431594</th>\n",
       "      <td>108078</td>\n",
       "      <td>857-P9營業小客車</td>\n",
       "      <td>張睿紘君您好:\\n您所檢舉車號857-P9營業小客車於108年7月8日9時6分，在花蓮市中山...</td>\n",
       "    </tr>\n",
       "    <tr>\n",
       "      <th>2019070916032398</th>\n",
       "      <td></td>\n",
       "      <td>2888-B5自小客車</td>\n",
       "      <td>劉瓊璋君您好:\\n您所檢舉車號2888-B5自小客車，在花蓮市中山路612號 199百貨違規...</td>\n",
       "    </tr>\n",
       "    <tr>\n",
       "      <th>2019070919091495</th>\n",
       "      <td>108077</td>\n",
       "      <td>MCN-8859普通重型機車</td>\n",
       "      <td>賴立新君您好:\\n您所檢舉車號MCN-8859普通重型機車於108年7月7日17時9分，在花...</td>\n",
       "    </tr>\n",
       "    <tr>\n",
       "      <th>2019070920233979</th>\n",
       "      <td>108079</td>\n",
       "      <td>ATS-0279自小客車</td>\n",
       "      <td>李俍禛君您好:\\n您所檢舉車號ATS-0279自小客車於108年7月9日16時17分，在花蓮...</td>\n",
       "    </tr>\n",
       "  </tbody>\n",
       "</table>\n",
       "</div>"
      ],
      "text/plain": [
       "                    date                                                car  \\\n",
       "2019070819102180  108076   992-NET普通重型機車、 MUU-3801普通重型機車、 MHP-2011普通重型機車...   \n",
       "2019070820370042  108076            6002-RV自小客車、 ATW-8520自小客車、 3437-DD租賃小客車   \n",
       "2019070820420116  108076         AKX-0069自小客車、 602-EYC普通重型機車、 RBS-9507租賃小客車   \n",
       "2019070908241629  108079                                        1159-B5自小客車   \n",
       "2019070910140460  108079                                       AHF-0186自小客車   \n",
       "2019070915412264                                                0516-SN自小客車   \n",
       "2019070915431594  108078                                        857-P9營業小客車   \n",
       "2019070916032398                                                2888-B5自小客車   \n",
       "2019070919091495  108077                                     MCN-8859普通重型機車   \n",
       "2019070920233979  108079                                       ATS-0279自小客車   \n",
       "\n",
       "                                                               data  \n",
       "2019070819102180  陳明倫君您好: \\n您108年7月8日檢舉交通違規案件，經檢視所提供之舉證資料，辦理情形如下...  \n",
       "2019070820370042  陳明倫君您好: \\n您108年7月8日檢舉交通違規案件，經檢視所提供之舉證資料，辦理情形如下...  \n",
       "2019070820420116  陳明倫君您好:\\n您所檢舉車號AKX-0069自小客車及車號602-EYC普通重型機車於10...  \n",
       "2019070908241629  梁毓仁君您好:\\n您所檢舉車號1159-B5自小客車於108年7月9日6時50分，在花蓮縣南...  \n",
       "2019070910140460  曾建清君您好:\\n您所檢舉車號AHF-0186自小客車於108年7月9日8時59分，在花蓮縣...  \n",
       "2019070915412264  劉瓊璋君您好:\\n您所檢舉車號0516-SN自小客車，在花蓮市中山路553號丁丁藥局前違規一...  \n",
       "2019070915431594  張睿紘君您好:\\n您所檢舉車號857-P9營業小客車於108年7月8日9時6分，在花蓮市中山...  \n",
       "2019070916032398  劉瓊璋君您好:\\n您所檢舉車號2888-B5自小客車，在花蓮市中山路612號 199百貨違規...  \n",
       "2019070919091495  賴立新君您好:\\n您所檢舉車號MCN-8859普通重型機車於108年7月7日17時9分，在花...  \n",
       "2019070920233979  李俍禛君您好:\\n您所檢舉車號ATS-0279自小客車於108年7月9日16時17分，在花蓮...  "
      ]
     },
     "execution_count": 12,
     "metadata": {},
     "output_type": "execute_result"
    }
   ],
   "source": [
    "import pandas as pd\n",
    "from pandas import Series,DataFrame\n",
    "data_s = Series(data,name = 'data',index = files)\n",
    "date_s = Series(date_list,name = 'date',index = files)\n",
    "car_s = Series(car_list,name = 'car',index = files)\n",
    "df = pd.concat([date_s,car_s,data_s],axis = 1)\n",
    "df"
   ]
  },
  {
   "cell_type": "code",
   "execution_count": 13,
   "metadata": {},
   "outputs": [
    {
     "name": "stdout",
     "output_type": "stream",
     "text": [
      "Enter a month : 7\n",
      "Enter a day : 0716\n"
     ]
    }
   ],
   "source": [
    "## adding hyperlinks\n",
    "\n",
    "import xlsxwriter\n",
    "\n",
    "workbook = xlsxwriter.Workbook('Hyperlinks.xlsx')\n",
    "worksheet = workbook.add_worksheet('Hyperlinks')\n",
    "\n",
    "month = input('Enter a month : ')\n",
    "day = input('Enter a day : ')\n",
    "\n",
    "for i,f in enumerate(files,start=1):   \n",
    "    worksheet.write_url('A'+str(i), '108結畢案件\\\\108年' + month + '月'+ '\\\\' + day + '\\\\'+ f,string = f)\n",
    "    worksheet.write('B'+str(i),date_s[f])\n",
    "    worksheet.write('C'+str(i),car_s[f])\n",
    "    worksheet.write('D'+str(i),data_s[f])\n",
    "workbook.close()"
   ]
  },
  {
   "cell_type": "code",
   "execution_count": 52,
   "metadata": {
    "scrolled": true
   },
   "outputs": [
    {
     "data": {
      "text/plain": [
       "'陳明倫君您好:\\n您所檢舉車RBT-3983租賃小客車於108年6月15日17時53分，在花蓮市中山路與福建街交岔路口違規一節，經檢視所提供之舉證資料，違規事實明確，將依違反道路交通管理處罰條例第48條第1項第1款（路邊起駛車輛未使用方向燈）規定製單舉發。\\n\\t感謝來信  敬祝平安'"
      ]
     },
     "execution_count": 52,
     "metadata": {},
     "output_type": "execute_result"
    }
   ],
   "source": [
    "i = files[4]\n",
    "file=docx.Document(\"C:\\\\Users\\\\traffic\\\\Desktop\\\\package\\\\data\\\\\" + i +'\\\\' + i +\".docx\")\n",
    "file.tables[1].rows[0].cells[1].text"
   ]
  },
  {
   "cell_type": "code",
   "execution_count": 64,
   "metadata": {},
   "outputs": [],
   "source": [
    "i = files[4]\n",
    "file=docx.Document(\"C:\\\\Users\\\\traffic\\\\Desktop\\\\package\\\\data\\\\\" + i +'\\\\' + i +\".docx\")\n",
    "table = file.tables[1]\n",
    "keys = None\n",
    "for i, row in enumerate(table.rows):\n",
    "    text = (cell.text for cell in row.cells)\n",
    "\n",
    "            # Establish the mapping based on the first row\n",
    "            # headers; these will become the keys of our dictionary\n",
    "    if i == 0:\n",
    "        keys = tuple(text)\n",
    "        continue\n",
    "\n",
    "            # Construct a dictionary for this row, mapping\n",
    "            # keys to values for this row\n",
    "    row_data = dict(zip(keys, text))        \n",
    "    row_data"
   ]
  },
  {
   "cell_type": "code",
   "execution_count": 65,
   "metadata": {},
   "outputs": [
    {
     "data": {
      "text/plain": [
       "{}"
      ]
     },
     "execution_count": 65,
     "metadata": {},
     "output_type": "execute_result"
    }
   ],
   "source": [
    "row_data"
   ]
  },
  {
   "cell_type": "code",
   "execution_count": 11,
   "metadata": {},
   "outputs": [
    {
     "data": {
      "text/plain": [
       "'交通隊            核稿               決行\\n\\xa0\\n\\xa0\\n\\xa0\\n\\xa0'"
      ]
     },
     "execution_count": 11,
     "metadata": {},
     "output_type": "execute_result"
    }
   ],
   "source": [
    "data.pop(9)"
   ]
  },
  {
   "cell_type": "code",
   "execution_count": 8,
   "metadata": {},
   "outputs": [
    {
     "data": {
      "text/plain": [
       "['陳明倫君您好: \\n您108年7月8日檢舉交通違規案件，經檢視所提供之舉證資料，辦理情形如下：\\n一、車號992-NET，MUU-3801，MHP-2011，125HKT，HX7-098，MPW-3530普通重型機車於108年7月6日10時7分，在花蓮市明智街與延平街口違規一節，經檢視所提供之舉證資料，違規事實明確，將依違反道路交通管理處罰條例第55條第1項第3款（紅線臨停）規定製單舉發。\\n二、車號3833-T7及ALE-0106自小客車於108年7月6日10時7分，在花蓮市明智街69號(禾湘火鍋前)違規一節，經檢視所提供之舉證資料，違規事實明確，將依違反道路交通管理處罰條例第55條第1項第3款（紅線臨停）規定製單舉發。\\n\\n感謝來信  敬祝平安\\n',\n",
       " '陳明倫君您好: \\n您108年7月8日檢舉交通違規案件，經檢視所提供之舉證資料，辦理情形如下：\\n一、車號6002-RV自小客車於108年7月6日12時18分，在花蓮縣新城鄉縣道193線七星潭段違規一節，經檢視所提供之舉證資料，違規事實明確，將依違反道路交通管理處罰條例第55條第1項第3款（紅線臨停）規定製單舉發。\\n二、車號ATW-8520自小客車於108年7月6日12時20分，在花蓮縣新城鄉縣道193線七星潭段違規一節，經檢視所提供之舉證資料，違規事實明確，將分別依違反道路交通管理處罰條例第49條第1項第2款（雙黃線迴轉）及同條例第48條第1項第1款（變換車道未使用方向燈）規定製單舉發。\\n三、車號3437-DD租賃小客車於108年7月6日12時21分，在花蓮縣新城鄉七星街112號前違規一節，經檢視所提供之舉證資料，違規事實明確，將依違反道路交通管理處罰條例第55條第1項第3款規定製單舉發。\\n\\t感謝來信  敬祝平安',\n",
       " '陳明倫君您好:\\n您所檢舉車號AKX-0069自小客車及車號602-EYC普通重型機車於108年7月6日12時31分，在花蓮市復興街與正義街路口違規一節，經檢視所提供之舉證資料，違規事實明確，將依違反道路交通管理處罰條例第55條第1項第3款（紅線臨停）規定製單舉發。\\n您所檢舉車號RBS-9507租賃小客車於108年7月6日12時31分，在花蓮市復興街與正義街路口違規一節，因所提供之舉證資料無法明確判定違規事實，不宜製單舉發。\\n\\t感謝來信  敬祝平安',\n",
       " '梁毓仁君您好:\\n您所檢舉車號1159-B5自小客車於108年7月9日6時50分，在花蓮縣南山五街45巷與吉興一街412巷交岔路口違規一節，因所提供之舉證資料無法明確判定違規事實，不宜製單舉發。\\n\\t感謝來信  敬祝平安',\n",
       " '曾建清君您好:\\n您所檢舉車號AHF-0186自小客車於108年7月9日8時59分，在花蓮縣玉里鎮三民國中違規一節，經檢視所提供之舉證資料，因檢附照片僅有一張，無法判定違規事項；請您提供該車於紅燈時經過停止線之及可清潔辨識車牌號碼之舉證照片或連續錄影檔案資料，俾供查證舉發。\\n感謝來信  敬祝平安\\t',\n",
       " '劉瓊璋君您好:\\n您所檢舉車號0516-SN自小客車，在花蓮市中山路553號丁丁藥局前違規一節，因所提供之舉證照片未顯示違規日期、時間，無法製單舉發。\\n感謝來信  敬祝平安',\n",
       " '張睿紘君您好:\\n您所檢舉車號857-P9營業小客車於108年7月8日9時6分，在花蓮市中山路338號違規一節，因未依車種違規停車須逾3分鐘方可舉發，您所提供之舉證資料未達3分鐘，故無法製單舉發。\\n\\t感謝來信  敬祝平安',\n",
       " '劉瓊璋君您好:\\n您所檢舉車號2888-B5自小客車，在花蓮市中山路612號 199百貨違規一節，因所提供之舉證照片未顯示日期、時間及違規車牌號碼，無法製單舉發。\\n感謝來信  敬祝平安',\n",
       " '賴立新君您好:\\n您所檢舉車號MCN-8859普通重型機車於108年7月7日17時9分，在花蓮縣吉安鄉臺11線花蓮大橋違規一節，經檢視所提供之舉證資料，違規事實明確，將分依違反道路交通管理處罰條例第31條第6項（騎乘機車未戴安全帽）、第48條第1項第1款（變換車道前未使用方向燈）及同條例第48條第1項第2款（跨越雙白線變換車道）第3款規定製單舉發。\\n\\t感謝來信  敬祝平安',\n",
       " '李俍禛君您好:\\n您所檢舉車號ATS-0279自小客車於108年7月9日16時17分，在花蓮縣吉安鄉違中華路二段與吉祥一街口規一節，經檢視所提供之舉證資料，違規事實明確，將依違反道路交通管理處罰條例第48條第1項第3款（占用來車道搶先左轉）規定製單舉發；另您建議在該處設置交通桿及劃設機慢車待轉區部分，已函請道路主管機關公路總局花蓮工務段依權責卓處。\\n\\t感謝來信  敬祝平安']"
      ]
     },
     "execution_count": 8,
     "metadata": {},
     "output_type": "execute_result"
    }
   ],
   "source": [
    "data"
   ]
  },
  {
   "cell_type": "code",
   "execution_count": null,
   "metadata": {},
   "outputs": [],
   "source": []
  }
 ],
 "metadata": {
  "kernelspec": {
   "display_name": "Python 3",
   "language": "python",
   "name": "python3"
  },
  "language_info": {
   "codemirror_mode": {
    "name": "ipython",
    "version": 3
   },
   "file_extension": ".py",
   "mimetype": "text/x-python",
   "name": "python",
   "nbconvert_exporter": "python",
   "pygments_lexer": "ipython3",
   "version": "3.7.1"
  }
 },
 "nbformat": 4,
 "nbformat_minor": 2
}
